{
 "cells": [
  {
   "cell_type": "markdown",
   "id": "06aaa5b3",
   "metadata": {},
   "source": [
    "# LlamaParse + Cortex Search\n",
    "\n",
    "This notebook walks through how to parse a complex report with LlamaParse, how to load it in Snowflake, and how to create a Cortex Search service on top of the parsed data (in Snowflake).\n",
    "\n",
    "At the end, we link to a quickstart you can follow to build a complete RAG app on top of the search service."
   ]
  },
  {
   "cell_type": "markdown",
   "id": "615b5c6f",
   "metadata": {},
   "source": [
    "## Set key and import libraries"
   ]
  },
  {
   "cell_type": "code",
   "execution_count": null,
   "id": "735c4a7d",
   "metadata": {},
   "outputs": [],
   "source": [
    "import os\n",
    "from llama_cloud_services import LlamaParse\n",
    "import nest_asyncio\n",
    "nest_asyncio.apply()\n",
    "\n",
    "os.environ[\"LLAMA_CLOUD_API_KEY\"] = \"llx-...\""
   ]
  },
  {
   "cell_type": "markdown",
   "id": "68534acd",
   "metadata": {},
   "source": [
    "## Parse PDF"
   ]
  },
  {
   "cell_type": "code",
   "execution_count": null,
   "id": "5195f837",
   "metadata": {},
   "outputs": [
    {
     "name": "stdout",
     "output_type": "stream",
     "text": [
      "Started parsing the file under job_id f2286ee4-d1e8-4a8c-9fb7-f91ad77e9c88\n",
      "."
     ]
    }
   ],
   "source": [
    "parser = LlamaParse(\n",
    "    num_workers=4,       # if multiple files passed, split in `num_workers` API calls\n",
    "    verbose=True,\n",
    "    language=\"en\",       # optionally define a language, default=en\n",
    ")\n",
    "\n",
    "# sync\n",
    "result = parser.parse(\"./sec_snow_annual_report.pdf\")"
   ]
  },
  {
   "cell_type": "code",
   "execution_count": 20,
   "id": "1cbea1d8",
   "metadata": {},
   "outputs": [],
   "source": [
    "# get the llama-index markdown documents\n",
    "markdown_documents = result.get_markdown_documents(split_by_page=True)"
   ]
  },
  {
   "cell_type": "code",
   "execution_count": 23,
   "id": "c9bf3249",
   "metadata": {},
   "outputs": [],
   "source": [
    "import pandas as pd\n",
    "\n",
    "def documents_to_dataframe(documents):\n",
    "    rows = []\n",
    "    for doc in documents:\n",
    "        row = {}\n",
    "        # Store document ID\n",
    "        row[\"ID\"] = doc.id_\n",
    "        # Add all metadata items as separate columns\n",
    "        for key, value in doc.metadata.items():\n",
    "            row[key] = value\n",
    "        # Get text from the text_resource attribute, if available\n",
    "        row[\"text\"] = getattr(doc.text_resource, \"text\", None)\n",
    "        rows.append(row)\n",
    "    return pd.DataFrame(rows)"
   ]
  },
  {
   "cell_type": "code",
   "execution_count": 24,
   "id": "30567c13",
   "metadata": {},
   "outputs": [],
   "source": [
    "df = documents_to_dataframe(markdown_documents)"
   ]
  },
  {
   "cell_type": "code",
   "execution_count": null,
   "id": "8ffb11f6",
   "metadata": {},
   "outputs": [],
   "source": [
    "df.to_csv(\"snowflake_sec_annual_report.csv\", index=False)"
   ]
  },
  {
   "cell_type": "markdown",
   "id": "ef8100cc",
   "metadata": {},
   "source": [
    "Load data to Snowflake\n",
    "\n",
    "1. Log into Snowsight\n",
    "2. Data -> Databases -> Create Database 'LLAMAPARSE_DEMO'\n",
    "3. Click the new database in explorer (left pane), and create new schema 'SEC_FILINGS'\n",
    "4. Choose add data to table and load the CSV you just created. Choose 'View Options' if needed to specify that the first line of the CSV containers headers."
   ]
  },
  {
   "cell_type": "markdown",
   "id": "dffe9021",
   "metadata": {},
   "source": [
    "![load page 1](load1.png \"Loading data in Snowsight\")"
   ]
  },
  {
   "cell_type": "markdown",
   "id": "ebdc07d8",
   "metadata": {},
   "source": [
    "![load page 2](load2.png \"Loading data in Snowsight\")"
   ]
  },
  {
   "cell_type": "markdown",
   "id": "5b4e5e93",
   "metadata": {},
   "source": [
    "![load page 3](load_success.png \"Successful data load in Snowsight\")"
   ]
  },
  {
   "cell_type": "markdown",
   "id": "888b5d5e",
   "metadata": {},
   "source": [
    "## Create a Cortex Search Service\n",
    "\n",
    "Open a new SQL worksheet and run the following. Make sure to select a database and schema to execute the query.\n",
    "\n",
    "```sql\n",
    "CREATE CORTEX SEARCH SERVICE IF NOT EXISTS SNOWFLAKE_ANNUAL_REPORT_SEARCH_SERVICE\n",
    "  ON TEXT\n",
    "  ATTRIBUTES ID, PAGE_NUMBER, FILE_NAME\n",
    "  WAREHOUSE = S\n",
    "  TARGET_LAG = '1 hour'\n",
    "    AS (\n",
    "      SELECT\n",
    "        ID,\n",
    "        page_number,\n",
    "        file_name,\n",
    "        text\n",
    "      FROM llamaparse_demo.sec_filings.sec_filings\n",
    "    );\n",
    "```"
   ]
  },
  {
   "cell_type": "markdown",
   "id": "a65ee85b",
   "metadata": {},
   "source": [
    "## Create a RAG\n",
    "\n",
    "Follow steps 5+ to build a LLM assistant using streamlit and Cortex Search on your SEC filings data parsed by LlamaParse!\n",
    "\n",
    "https://quickstarts.snowflake.com/guide/ask_questions_to_your_own_documents_with_snowflake_cortex_search/#4"
   ]
  }
 ],
 "metadata": {
  "kernelspec": {
   "display_name": "oss_rag_stack",
   "language": "python",
   "name": "python3"
  },
  "language_info": {
   "codemirror_mode": {
    "name": "ipython",
    "version": 3
   },
   "file_extension": ".py",
   "mimetype": "text/x-python",
   "name": "python",
   "nbconvert_exporter": "python",
   "pygments_lexer": "ipython3",
   "version": "3.11.11"
  }
 },
 "nbformat": 4,
 "nbformat_minor": 5
}
