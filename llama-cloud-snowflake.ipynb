{
 "cells": [
  {
   "cell_type": "markdown",
   "id": "06aaa5b3",
   "metadata": {},
   "source": [
    "# LlamaParse + Cortex Search\n",
    "\n",
    "This notebook walks through how to parse a complex report with LlamaParse, how to load it in Snowflake, and how to create a RAG via Cortex Search on top of the data loaded into Snowflake."
   ]
  },
  {
   "cell_type": "markdown",
   "id": "615b5c6f",
   "metadata": {},
   "source": [
    "## Set key and import libraries\n",
    "For this example, you will need a LlamaCloud API key and a Snowflake account. Get LlamaCloud API key following these [instructions](https://docs.cloud.llamaindex.ai/api_key), and signup for Snowflake [here](https://signup.snowflake.com/)."
   ]
  },
  {
   "cell_type": "code",
   "execution_count": null,
   "id": "735c4a7d",
   "metadata": {},
   "outputs": [],
   "source": [
    "import os\n",
    "import nest_asyncio\n",
    "nest_asyncio.apply()\n",
    "\n",
    "# llama-cloud\n",
    "os.environ[\"LLAMA_CLOUD_API_KEY\"] = \"llx-...\"\n",
    "\n",
    "# snowflake\n",
    "os.environ[\"SNOWFLAKE_ACCOUNT\"] = \"...\" # note: \"_\" can cause problems with the connection, use \"-\" instead\n",
    "os.environ[\"SNOWFLAKE_USER\"] = \"...\"\n",
    "os.environ[\"SNOWFLAKE_PASSWORD\"] = \"...\"\n",
    "os.environ[\"SNOWFLAKE_ROLE\"] = \"...\"\n",
    "os.environ[\"SNOWFLAKE_WAREHOUSE\"] = \"...\"\n",
    "os.environ[\"SNOWFLAKE_DATABASE\"] = \"...\" # note: make sure to use a database that already\n",
    "os.environ[\"SNOWFLAKE_SCHEMA\"] = \"...\""
   ]
  },
  {
   "cell_type": "markdown",
   "id": "0b7b6027",
   "metadata": {},
   "source": [
    "## Load Data\n",
    "\n",
    "Use Snowflake's latest 10K or your favorite PDF.\n",
    "\n",
    "To use Snowflake's latest 10K, download it from [here](https://d18rn0p25nwr6d.cloudfront.net/CIK-0001640147/663fb935-b123-4bbb-8827-905bcbb8953c.pdf) and rename it as `snowflake_2025_10k.pdf`."
   ]
  },
  {
   "cell_type": "markdown",
   "id": "68534acd",
   "metadata": {},
   "source": [
    "## Parse PDF"
   ]
  },
  {
   "cell_type": "code",
   "execution_count": 2,
   "id": "5195f837",
   "metadata": {},
   "outputs": [
    {
     "name": "stdout",
     "output_type": "stream",
     "text": [
      "Started parsing the file under job_id bbd9b1ce-0a10-4699-874f-af0133189135\n"
     ]
    }
   ],
   "source": [
    "from llama_cloud_services import LlamaParse\n",
    "\n",
    "parser = LlamaParse(\n",
    "    num_workers=4,       # if multiple files passed, split in `num_workers` API calls\n",
    "    verbose=True,\n",
    "    language=\"en\",       # optionally define a language, default=en\n",
    ")\n",
    "\n",
    "# sync\n",
    "result = parser.parse(\"./snowflake_2025_10k.pdf\")"
   ]
  },
  {
   "cell_type": "code",
   "execution_count": 3,
   "id": "1cbea1d8",
   "metadata": {},
   "outputs": [],
   "source": [
    "# get the llama-index markdown documents\n",
    "markdown_documents = result.get_markdown_documents(split_by_page=True)"
   ]
  },
  {
   "cell_type": "markdown",
   "id": "4c284a17",
   "metadata": {},
   "source": [
    "## Convert LlamaIndex Documents to Dataframe"
   ]
  },
  {
   "cell_type": "code",
   "execution_count": 4,
   "id": "c9bf3249",
   "metadata": {},
   "outputs": [],
   "source": [
    "import pandas as pd\n",
    "\n",
    "def documents_to_dataframe(documents):\n",
    "    rows = []\n",
    "    for doc in documents:\n",
    "        row = {}\n",
    "        # Store document ID\n",
    "        row[\"ID\"] = doc.id_\n",
    "        # Add all metadata items as separate columns\n",
    "        for key, value in doc.metadata.items():\n",
    "            row[key] = value\n",
    "        # Get text from the text_resource attribute, if available\n",
    "        row[\"text\"] = getattr(doc.text_resource, \"text\", None)\n",
    "        rows.append(row)\n",
    "    return pd.DataFrame(rows)"
   ]
  },
  {
   "cell_type": "code",
   "execution_count": 5,
   "id": "30567c13",
   "metadata": {},
   "outputs": [],
   "source": [
    "documents_df = documents_to_dataframe(markdown_documents)"
   ]
  },
  {
   "cell_type": "code",
   "execution_count": 6,
   "id": "3ea1f9d8",
   "metadata": {},
   "outputs": [
    {
     "data": {
      "text/html": [
       "<div>\n",
       "<style scoped>\n",
       "    .dataframe tbody tr th:only-of-type {\n",
       "        vertical-align: middle;\n",
       "    }\n",
       "\n",
       "    .dataframe tbody tr th {\n",
       "        vertical-align: top;\n",
       "    }\n",
       "\n",
       "    .dataframe thead th {\n",
       "        text-align: right;\n",
       "    }\n",
       "</style>\n",
       "<table border=\"1\" class=\"dataframe\">\n",
       "  <thead>\n",
       "    <tr style=\"text-align: right;\">\n",
       "      <th></th>\n",
       "      <th>ID</th>\n",
       "      <th>page_number</th>\n",
       "      <th>file_name</th>\n",
       "      <th>text</th>\n",
       "    </tr>\n",
       "  </thead>\n",
       "  <tbody>\n",
       "    <tr>\n",
       "      <th>0</th>\n",
       "      <td>5b98be7b-b051-4978-aa37-301a71ab7049</td>\n",
       "      <td>1</td>\n",
       "      <td>./snowflake_2025_10k.pdf</td>\n",
       "      <td># Table of Contents\\n\\n# UNITED STATES\\n\\n# SE...</td>\n",
       "    </tr>\n",
       "    <tr>\n",
       "      <th>1</th>\n",
       "      <td>39beb5de-9853-4bc1-b2e0-443123e2e2e7</td>\n",
       "      <td>2</td>\n",
       "      <td>./snowflake_2025_10k.pdf</td>\n",
       "      <td># TABLE OF CONTENTS\\n\\n| Special Note About Fo...</td>\n",
       "    </tr>\n",
       "    <tr>\n",
       "      <th>2</th>\n",
       "      <td>c7aa5c02-6440-42d8-9d4d-1aa933a9acc1</td>\n",
       "      <td>3</td>\n",
       "      <td>./snowflake_2025_10k.pdf</td>\n",
       "      <td># Table of Contents\\n\\n# SPECIAL NOTE ABOUT FO...</td>\n",
       "    </tr>\n",
       "    <tr>\n",
       "      <th>3</th>\n",
       "      <td>1f558f93-c964-4a8d-bff2-7ed309b7bd10</td>\n",
       "      <td>4</td>\n",
       "      <td>./snowflake_2025_10k.pdf</td>\n",
       "      <td># Table of Contents\\n\\nWe caution you that the...</td>\n",
       "    </tr>\n",
       "    <tr>\n",
       "      <th>4</th>\n",
       "      <td>a52294ba-613d-4475-8f8e-0a36879d05cc</td>\n",
       "      <td>5</td>\n",
       "      <td>./snowflake_2025_10k.pdf</td>\n",
       "      <td># Table of Contents\\n\\n# SELECTED RISKS AFFECT...</td>\n",
       "    </tr>\n",
       "    <tr>\n",
       "      <th>...</th>\n",
       "      <td>...</td>\n",
       "      <td>...</td>\n",
       "      <td>...</td>\n",
       "      <td>...</td>\n",
       "    </tr>\n",
       "    <tr>\n",
       "      <th>224</th>\n",
       "      <td>727670de-e598-4648-8da7-36acb49e455e</td>\n",
       "      <td>225</td>\n",
       "      <td>./snowflake_2025_10k.pdf</td>\n",
       "      <td># Exhibit 23.1\\n\\n# CONSENT OF INDEPENDENT REG...</td>\n",
       "    </tr>\n",
       "    <tr>\n",
       "      <th>225</th>\n",
       "      <td>813d21c2-7f9f-49b0-9b98-1e8d134c8e9b</td>\n",
       "      <td>226</td>\n",
       "      <td>./snowflake_2025_10k.pdf</td>\n",
       "      <td># Exhibit 31.1\\n\\n# CERTIFICATION OF PRINCIPAL...</td>\n",
       "    </tr>\n",
       "    <tr>\n",
       "      <th>226</th>\n",
       "      <td>355b988e-9954-4c5e-95fa-98be39f8159f</td>\n",
       "      <td>227</td>\n",
       "      <td>./snowflake_2025_10k.pdf</td>\n",
       "      <td># Exhibit 31.2\\n\\n# CERTIFICATION OF PRINCIPAL...</td>\n",
       "    </tr>\n",
       "    <tr>\n",
       "      <th>227</th>\n",
       "      <td>9e5d2584-624c-4155-9420-42b61ecb440f</td>\n",
       "      <td>228</td>\n",
       "      <td>./snowflake_2025_10k.pdf</td>\n",
       "      <td># Exhibit 32.1\\n\\n# CERTIFICATION PURSUANT TO ...</td>\n",
       "    </tr>\n",
       "    <tr>\n",
       "      <th>228</th>\n",
       "      <td>a76bc8d4-0376-4218-9258-0071044e0dc7</td>\n",
       "      <td>229</td>\n",
       "      <td>./snowflake_2025_10k.pdf</td>\n",
       "      <td># Exhibit 32.2\\n\\n# CERTIFICATION PURSUANT TO ...</td>\n",
       "    </tr>\n",
       "  </tbody>\n",
       "</table>\n",
       "<p>229 rows × 4 columns</p>\n",
       "</div>"
      ],
      "text/plain": [
       "                                       ID  page_number  \\\n",
       "0    5b98be7b-b051-4978-aa37-301a71ab7049            1   \n",
       "1    39beb5de-9853-4bc1-b2e0-443123e2e2e7            2   \n",
       "2    c7aa5c02-6440-42d8-9d4d-1aa933a9acc1            3   \n",
       "3    1f558f93-c964-4a8d-bff2-7ed309b7bd10            4   \n",
       "4    a52294ba-613d-4475-8f8e-0a36879d05cc            5   \n",
       "..                                    ...          ...   \n",
       "224  727670de-e598-4648-8da7-36acb49e455e          225   \n",
       "225  813d21c2-7f9f-49b0-9b98-1e8d134c8e9b          226   \n",
       "226  355b988e-9954-4c5e-95fa-98be39f8159f          227   \n",
       "227  9e5d2584-624c-4155-9420-42b61ecb440f          228   \n",
       "228  a76bc8d4-0376-4218-9258-0071044e0dc7          229   \n",
       "\n",
       "                    file_name  \\\n",
       "0    ./snowflake_2025_10k.pdf   \n",
       "1    ./snowflake_2025_10k.pdf   \n",
       "2    ./snowflake_2025_10k.pdf   \n",
       "3    ./snowflake_2025_10k.pdf   \n",
       "4    ./snowflake_2025_10k.pdf   \n",
       "..                        ...   \n",
       "224  ./snowflake_2025_10k.pdf   \n",
       "225  ./snowflake_2025_10k.pdf   \n",
       "226  ./snowflake_2025_10k.pdf   \n",
       "227  ./snowflake_2025_10k.pdf   \n",
       "228  ./snowflake_2025_10k.pdf   \n",
       "\n",
       "                                                  text  \n",
       "0    # Table of Contents\\n\\n# UNITED STATES\\n\\n# SE...  \n",
       "1    # TABLE OF CONTENTS\\n\\n| Special Note About Fo...  \n",
       "2    # Table of Contents\\n\\n# SPECIAL NOTE ABOUT FO...  \n",
       "3    # Table of Contents\\n\\nWe caution you that the...  \n",
       "4    # Table of Contents\\n\\n# SELECTED RISKS AFFECT...  \n",
       "..                                                 ...  \n",
       "224  # Exhibit 23.1\\n\\n# CONSENT OF INDEPENDENT REG...  \n",
       "225  # Exhibit 31.1\\n\\n# CERTIFICATION OF PRINCIPAL...  \n",
       "226  # Exhibit 31.2\\n\\n# CERTIFICATION OF PRINCIPAL...  \n",
       "227  # Exhibit 32.1\\n\\n# CERTIFICATION PURSUANT TO ...  \n",
       "228  # Exhibit 32.2\\n\\n# CERTIFICATION PURSUANT TO ...  \n",
       "\n",
       "[229 rows x 4 columns]"
      ]
     },
     "execution_count": 6,
     "metadata": {},
     "output_type": "execute_result"
    }
   ],
   "source": [
    "documents_df"
   ]
  },
  {
   "cell_type": "markdown",
   "id": "48e6742d",
   "metadata": {},
   "source": [
    "## Write DataFrame to Snowflake table"
   ]
  },
  {
   "cell_type": "code",
   "execution_count": 7,
   "id": "8498ad32",
   "metadata": {},
   "outputs": [
    {
     "name": "stderr",
     "output_type": "stream",
     "text": [
      "/opt/anaconda3/envs/oss_rag_stack/lib/python3.11/site-packages/snowflake/connector/options.py:104: UserWarning: You have an incompatible version of 'pyarrow' installed (20.0.0), please install a version that adheres to: 'pyarrow<19.0.0; extra == \"pandas\"'\n",
      "  warn_incompatible_dep(\n",
      "/opt/anaconda3/envs/oss_rag_stack/lib/python3.11/site-packages/snowflake/snowpark/session.py:38: UserWarning: pkg_resources is deprecated as an API. See https://setuptools.pypa.io/en/latest/pkg_resources.html. The pkg_resources package is slated for removal as early as 2025-11-30. Refrain from using this package or pin to Setuptools<81.\n",
      "  import pkg_resources\n"
     ]
    }
   ],
   "source": [
    "from snowflake.snowpark import Session\n",
    "\n",
    "# Create Snowpark session\n",
    "connection_parameters = {\n",
    "    \"account\": os.getenv(\"SNOWFLAKE_ACCOUNT\"),\n",
    "    \"user\": os.getenv(\"SNOWFLAKE_USER\"),\n",
    "    \"password\": os.getenv(\"SNOWFLAKE_PASSWORD\"),            \n",
    "    \"role\": os.getenv(\"SNOWFLAKE_ROLE\"),\n",
    "    \"warehouse\": os.getenv(\"SNOWFLAKE_WARHEOUSE\"),\n",
    "    \"database\": os.getenv(\"SNOWFLAKE_DATABASE\"),\n",
    "    \"schema\": os.getenv(\"SNOWFLAKE_SCHEMA\"),\n",
    "}\n",
    "\n",
    "session = Session.builder.configs(connection_parameters).create()"
   ]
  },
  {
   "cell_type": "code",
   "execution_count": 8,
   "id": "f91be45a",
   "metadata": {},
   "outputs": [],
   "source": [
    "# convert to Snowpark DataFrame\n",
    "snowpark_df = session.create_dataframe(documents_df)"
   ]
  },
  {
   "cell_type": "code",
   "execution_count": 9,
   "id": "6c148161",
   "metadata": {},
   "outputs": [],
   "source": [
    "# Write Snowpark DataFrame to a Snowflake table\n",
    "# Use 'overwrite' to replace table or 'append' to add to existing table\n",
    "snowpark_df.write.mode(\"overwrite\").save_as_table(\"snowflake_10k\")"
   ]
  },
  {
   "cell_type": "code",
   "execution_count": 10,
   "id": "7e19ab4b",
   "metadata": {},
   "outputs": [
    {
     "data": {
      "text/plain": [
       "[Row(status='Cortex search service SNOWFLAKE_10K_SEARCH_SERVICE successfully created.')]"
      ]
     },
     "execution_count": 10,
     "metadata": {},
     "output_type": "execute_result"
    }
   ],
   "source": [
    "create_search_service_sql = \"\"\"\n",
    "CREATE OR REPLACE CORTEX SEARCH SERVICE SNOWFLAKE_10K_SEARCH_SERVICE\n",
    "  ON TEXT\n",
    "  ATTRIBUTES ID, PAGE_NUMBER, FILE_NAME\n",
    "  WAREHOUSE = S\n",
    "  TARGET_LAG = '1 hour'\n",
    "    AS (\n",
    "      SELECT\n",
    "        ID,\n",
    "        \"page_number\" AS PAGE_NUMBER,\n",
    "        \"file_name\" AS FILE_NAME,\n",
    "        \"text\" AS TEXT\n",
    "      FROM SEC_10KS.PUBLIC.SNOWFLAKE_10K\n",
    "      );\n",
    "\"\"\"\n",
    "session.sql(create_search_service_sql).collect()"
   ]
  },
  {
   "cell_type": "code",
   "execution_count": 11,
   "id": "9562d37b",
   "metadata": {},
   "outputs": [],
   "source": [
    "import os\n",
    "from snowflake.core import Root\n",
    "from typing import List\n",
    "from snowflake.snowpark.session import Session\n",
    "\n",
    "class CortexSearchRetriever:\n",
    "\n",
    "    def __init__(self, snowpark_session: Session, limit_to_retrieve: int = 4):\n",
    "        self._snowpark_session = snowpark_session\n",
    "        self._limit_to_retrieve = limit_to_retrieve\n",
    "\n",
    "    def retrieve(self, query: str) -> List[str]:\n",
    "        root = Root(session)\n",
    "\n",
    "        search_service = (root\n",
    "          .databases[\"SEC_10KS\"]\n",
    "          .schemas[\"PUBLIC\"]\n",
    "          .cortex_search_services[\"SNOWFLAKE_10K_SEARCH_SERVICE\"]\n",
    "        )\n",
    "        resp = search_service.search(\n",
    "          query=query,\n",
    "          columns=[\"text\"],\n",
    "          limit=self._limit_to_retrieve\n",
    "        )\n",
    "\n",
    "        if resp.results:\n",
    "            return [curr[\"text\"] for curr in resp.results]\n",
    "        else:\n",
    "            return []\n",
    "        \n",
    "retriever = CortexSearchRetriever(snowpark_session=session, limit_to_retrieve=5)"
   ]
  },
  {
   "cell_type": "code",
   "execution_count": 12,
   "id": "ca74bda0",
   "metadata": {},
   "outputs": [
    {
     "data": {
      "text/plain": [
       "['# Xksnowflake\\n\\n# March 4, 2025\\n\\n# Michael Gannon\\n\\nDear Michael,\\n\\nWe are excited to offer you the position of Chief Revenue Officer reporting to Sridhar Ramaswamy. You will work out of our office in Atlanta, Georgia.\\n\\n# Compensation and Benefits Information\\n\\nYour annual salary will be $500,000 per year, less taxes, payroll deductions and withholding. Our pay frequency is bi-weekly and you will receive your paycheck every other Friday (except if Friday falls on a holiday, then payday will be the day prior). You are eligible for benefits as set forth in Snowflake’s Employee Benefits Guide.\\n\\n# Annual Bonus\\n\\nYou will be eligible to participate in the Quarterly Corporate Bonus Plan (the “Bonus Plan”). Your annual incentive bonus target is $500,000. Any bonus is payable at Snowflake’s discretion based upon both Company and individual performance.\\n\\nYour eligibility and compensation under this Bonus Plan will be governed under the terms of the Bonus Plan and applicable Snowflake policy, as established from time to time. The payment of any bonus (if any) and its amount will be at the absolute discretion of Snowflake. Bonuses are calculated and paid quarterly, and you will first be eligible for a bonus payout with respect to your first full quarter of employment. All payouts are at management’s discretion and are not guaranteed. Snowflake reserves the right to review, amend, or replace the Bonus Plan at any time in its sole discretion.\\n\\n# Sign-On Bonus\\n\\nIf your employment with Snowflake begins on or before March 14, 2025, you will be eligible to earn a one-time $1,900,000 sign-on bonus (“Sign-On Bonus”), less taxes, payroll deductions, and withholdings, provided you complete one year of employment with Snowflake. Snowflake will advance the Sign-On Bonus to you in your first regular paycheck (the “Advance”), provided that you are actively and continuously employed by Snowflake in good standing and not subject to notice of termination on the payment date. The Advance will become earned once you have completed one (1) year of continuous employment with Snowflake (your “Anniversary”). You agree that if, prior to your Anniversary, you have provided Snowflake notice that you are terminating your employment other than for Good Reason or Snowflake has given you notice that your employment will terminate for Cause (“Good Reason” and “Cause” as defined in Snowflake’s Severance and Change in Control Plan (as amended from time to time, the “Severance Plan”)), you will repay the Sign-On Repayment Amount in full within ten (10) business days of Snowflake’s written request. You hereby authorize Snowflake to withhold such amount from any',\n",
       " '# Table of Contents\\n\\n# SIGNATURES\\n\\nPursuant to the requirements of the Securities Exchange Act of 1934, as amended, the registrant has duly caused this report to be signed on its behalf by the undersigned, thereunto duly authorized.\\n\\nDate: March 21, 2025\\n\\n|   | SNOWFLAKE INC. |                                |\\n| - | -------------- | ------------------------------ |\\n|   | By:            | /s/ Sridhar Ramaswamy          |\\n|   | Name:          | Sridhar Ramaswamy              |\\n|   | Title:         | Chief Executive Officer        |\\n|   |                | (Principal Executive Officer)  |\\n|   | By:            | /s/ Michael P. Scarpelli       |\\n|   | Name:          | Michael P. Scarpelli           |\\n|   | Title:         | Chief Financial Officer        |\\n|   |                | (Principal Financial Officer)  |\\n|   | By:            | /s/ Emily Ho                   |\\n|   | Name:          | Emily Ho                       |\\n|   | Title:         | Chief Accounting Officer       |\\n|   |                | (Principal Accounting Officer) |\\n',\n",
       " '4rsnowflake\\n\\n3/19/2025\\n\\nChris Degnan\\n\\n260 Hubbard Ave\\n\\nRedwood City CA 94061\\n\\nDear Chris:\\n\\nThis letter agreement (the “Letter Agreement”) sets forth details about your transition and resignation from Snowflake Inc. (the “Company” and, together with its subsidiaries and other corporate affiliates, the “Company Group”). It will become effective on the date that the last party signs it, as set forth on the signature page hereto (the “Effective Date”).\\n\\n# 1. Separation Date and Transition Period.\\n\\na. You acknowledge that, effective as of March 14, 2025 (the “Transition Date”), you resigned from the role of Chief Revenue Officer and assumed the role of Strategic Advisor to CEO. As part of this transition, you will continue to report directly to the Company’s Chief Executive Officer, and the employees that reported to you in your capacity as Chief Revenue Officer will report to the Company’s successor Chief Revenue Officer.\\n\\nb. You and the Company agree to continue your employment following the Transition Date until a date to be mutually determined by you and the Company, which will be no later than December 31, 2025 (your actual final day of employment, the “Separation Date”). The period beginning on the Transition Date and ending on the Separation Date is referred to herein as the “Transition Period.” In the event that you and the Company do not agree upon an earlier date, your employment will automatically terminate on December 31, 2025.\\n\\nc. During the Transition Period, you will actively support a smooth transition of duties to the Company’s successor Chief Revenue Officer and make yourself available to your management chain, peers, and cross-functional partners. Through your Separation Date, you must continue to comply with all of the Company’s policies and procedures and with all of your statutory and contractual obligations to the Company, including, without limitation, your obligations under your Proprietary Information and Inventions Agreement dated September 6, 2013 (your “PIIA”).\\n\\nd. During the Transition Period, you will continue to be an employee of the Company. This means that (i) you will continue to receive your salary; (ii) you will remain eligible to participate in the Quarterly Corporate Bonus Plan (the “Bonus Plan”); (iii) you will remain eligible for the Company’s standard benefits, subject to their terms and conditions; and (iv) you will continue to provide “Continuous Service” under the Snowflake Inc. 2012 Equity Incentive Plan and the Snowflake Inc. 2020 Equity Incentive Plan (together, the “Plans”) such that your outstanding equity awards will continue to vest.\\n\\n1 Any bonus is payable at the Company’s sole discretion based upon both Company and individual performance. Your eligibility and compensation under this Bonus Plan will be governed under the terms of the Bonus Plan and applicable Company policy, as established from time to time.',\n",
       " '# Exhibit 32.2\\n\\n# CERTIFICATION PURSUANT TO 18 U.S.C. SECTION 1350 AS ADOPTED PURSUANT TO SECTION 906 OF THE SARBANES-OXLEY ACT OF 2002\\n\\nI, Michael P. Scarpelli, do hereby certify, to the best of my knowledge and pursuant to 18 U.S.C. Section 1350, as adopted pursuant to Section 906 of the Sarbanes-Oxley Act of 2002, that:\\n\\n- the Annual Report on Form 10-K of Snowflake Inc. for the period ended January 31, 2025 (the “Report”) fully complies with the requirements of Section 13(a) or 15(d) of the Securities Exchange Act of 1934, as amended; and\\n- the information contained in the Report fairly presents, in all material respects, the financial condition and results of operations of Snowflake Inc.\\n\\nDate: March 21, 2025\\n\\nBy: /s/ Michael P. Scarpelli\\n\\nName: Michael P. Scarpelli\\n\\nTitle: Chief Financial Officer (Principal Financial Officer)',\n",
       " '# Exhibit 32.1\\n\\n# CERTIFICATION PURSUANT TO 18 U.S.C. SECTION 1350\\n\\n# AS ADOPTED PURSUANT TO SECTION 906 OF THE SARBANES-OXLEY ACT OF 2002\\n\\nI, Sridhar Ramaswamy, do hereby certify, to the best of my knowledge and pursuant to 18 U.S.C. Section 1350, as adopted pursuant to Section 906 of the Sarbanes-Oxley Act of 2002, that:\\n\\n- the Annual Report on Form 10-K of Snowflake Inc. for the period ended January 31, 2025 (the “Report”) fully complies with the requirements of Section 13(a) or 15(d) of the Securities Exchange Act of 1934, as amended; and\\n- the information contained in the Report fairly presents, in all material respects, the financial condition and results of operations of Snowflake Inc.\\n\\nDate: March 21, 2025\\n\\nBy: /s/ Sridhar Ramaswamy\\n\\nName: Sridhar Ramaswamy\\n\\nTitle: Chief Executive Officer (Principal Executive Officer)']"
      ]
     },
     "execution_count": 12,
     "metadata": {},
     "output_type": "execute_result"
    }
   ],
   "source": [
    "retrieved_context = retriever.retrieve(query=\"Who is the CRO of Snowflake?\")\n",
    "\n",
    "retrieved_context"
   ]
  },
  {
   "cell_type": "markdown",
   "id": "a65ee85b",
   "metadata": {},
   "source": [
    "## Create a RAG"
   ]
  },
  {
   "cell_type": "code",
   "execution_count": 13,
   "id": "c7e94fb3",
   "metadata": {},
   "outputs": [],
   "source": [
    "from snowflake.cortex import complete\n",
    "\n",
    "class RAG:\n",
    "\n",
    "    def __init__(self, session):\n",
    "        self.session = session\n",
    "        self.retriever = CortexSearchRetriever(snowpark_session=self.session, limit_to_retrieve=4)\n",
    "\n",
    "    def retrieve_context(self, query: str) -> list:\n",
    "        \"\"\"\n",
    "        Retrieve relevant text from vector store.\n",
    "        \"\"\"\n",
    "        return self.retriever.retrieve(query)\n",
    "\n",
    "    def generate_completion(self, query: str, context_str: list) -> str:\n",
    "        \"\"\"\n",
    "        Generate answer from context.\n",
    "        \"\"\"\n",
    "        prompt = f\"\"\"\n",
    "          You are an expert assistant extracting information from context provided.\n",
    "          Answer the question in long-form, fully and completely, based on the context. Do not hallucinate.\n",
    "          If you don´t have the information just say so. If you do have the information you need, just tell me the answer.\n",
    "          Context: {context_str}\n",
    "          Question:\n",
    "          {query}\n",
    "          Answer:\n",
    "        \"\"\"\n",
    "        response = \"\"\n",
    "        response = complete(\"mistral-large2\", prompt, session = session)\n",
    "        return response\n",
    "\n",
    "    def query(self, query: str) -> str:\n",
    "        context_str = self.retrieve_context(query)\n",
    "        return self.generate_completion(query, context_str)\n",
    "\n",
    "\n",
    "rag = RAG(session)"
   ]
  },
  {
   "cell_type": "code",
   "execution_count": 14,
   "id": "02ffbb46",
   "metadata": {},
   "outputs": [],
   "source": [
    "response = rag.query(\"Who is Snowflake's current CRO?\")"
   ]
  },
  {
   "cell_type": "code",
   "execution_count": 15,
   "id": "a19897a2",
   "metadata": {},
   "outputs": [
    {
     "data": {
      "text/plain": [
       "\" Michael Gannon is Snowflake's current Chief Revenue Officer (CRO). He was appointed to replace Christopher W. Degnan, who notified the company of his intention to retire in March 2025.\""
      ]
     },
     "execution_count": 15,
     "metadata": {},
     "output_type": "execute_result"
    }
   ],
   "source": [
    "response"
   ]
  }
 ],
 "metadata": {
  "kernelspec": {
   "display_name": "oss_rag_stack",
   "language": "python",
   "name": "python3"
  },
  "language_info": {
   "codemirror_mode": {
    "name": "ipython",
    "version": 3
   },
   "file_extension": ".py",
   "mimetype": "text/x-python",
   "name": "python",
   "nbconvert_exporter": "python",
   "pygments_lexer": "ipython3",
   "version": "3.11.11"
  }
 },
 "nbformat": 4,
 "nbformat_minor": 5
}
