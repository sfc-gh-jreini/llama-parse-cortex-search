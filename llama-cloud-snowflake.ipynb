{
 "cells": [
  {
   "cell_type": "markdown",
   "id": "06aaa5b3",
   "metadata": {},
   "source": [
    "# LlamaParse + Cortex Search\n",
    "\n",
    "This notebook walks through how to parse a complex report with LlamaParse, how to load it in Snowflake, and how to create a RAG via Cortex Search on top of the data loaded into Snowflake."
   ]
  },
  {
   "cell_type": "markdown",
   "id": "615b5c6f",
   "metadata": {},
   "source": [
    "## Set key and import libraries\n",
    "For this example, you will need a LlamaCloud API key and a Snowflake account. Get LlamaCloud API key following these [instructions](https://docs.cloud.llamaindex.ai/api_key), and signup for Snowflake [here](https://signup.snowflake.com/)."
   ]
  },
  {
   "cell_type": "code",
   "execution_count": null,
   "id": "735c4a7d",
   "metadata": {},
   "outputs": [],
   "source": [
    "import os\n",
    "import nest_asyncio\n",
    "nest_asyncio.apply()\n",
    "\n",
    "# llama-cloud\n",
    "os.environ[\"LLAMA_CLOUD_API_KEY\"] = \"llx-...\"\n",
    "\n",
    "# snowflake\n",
    "os.environ[\"SNOWFLAKE_ACCOUNT\"] = \"...\" # note: \"_\" can cause problems with the connection, use \"-\" instead\n",
    "os.environ[\"SNOWFLAKE_USER\"] = \"...\"\n",
    "os.environ[\"SNOWFLAKE_PASSWORD\"] = \"...\"\n",
    "os.environ[\"SNOWFLAKE_ROLE\"] = \"...\"\n",
    "os.environ[\"SNOWFLAKE_WAREHOUSE\"] = \"...\"\n",
    "os.environ[\"SNOWFLAKE_DATABASE\"] = \"SEC_10KS\" # note: make sure to use a database that already\n",
    "os.environ[\"SNOWFLAKE_SCHEMA\"] = \"PUBLIC\""
   ]
  },
  {
   "cell_type": "markdown",
   "id": "0b7b6027",
   "metadata": {},
   "source": [
    "## Load Data\n",
    "\n",
    "Use Snowflake's latest 10K or your favorite PDF.\n",
    "\n",
    "To use Snowflake's latest 10K, download it from [here](https://d18rn0p25nwr6d.cloudfront.net/CIK-0001640147/663fb935-b123-4bbb-8827-905bcbb8953c.pdf) and rename it as `snowflake_2025_10k.pdf`."
   ]
  },
  {
   "cell_type": "markdown",
   "id": "68534acd",
   "metadata": {},
   "source": [
    "## Parse PDF"
   ]
  },
  {
   "cell_type": "code",
   "execution_count": null,
   "id": "5195f837",
   "metadata": {},
   "outputs": [],
   "source": [
    "from llama_cloud_services import LlamaParse\n",
    "\n",
    "parser = LlamaParse(\n",
    "    num_workers=4,       # if multiple files passed, split in `num_workers` API calls\n",
    "    verbose=True,\n",
    "    language=\"en\",       # optionally define a language, default=en\n",
    ")\n",
    "\n",
    "# sync\n",
    "result = parser.parse(\"./snowflake_2025_10k.pdf\")"
   ]
  },
  {
   "cell_type": "code",
   "execution_count": null,
   "id": "1cbea1d8",
   "metadata": {},
   "outputs": [],
   "source": [
    "# get the llama-index markdown documents\n",
    "markdown_documents = result.get_markdown_documents(split_by_page=True)"
   ]
  },
  {
   "cell_type": "markdown",
   "id": "4c284a17",
   "metadata": {},
   "source": [
    "## Convert LlamaIndex Documents to Dataframe"
   ]
  },
  {
   "cell_type": "code",
   "execution_count": null,
   "id": "c9bf3249",
   "metadata": {},
   "outputs": [],
   "source": [
    "import pandas as pd\n",
    "\n",
    "def documents_to_dataframe(documents):\n",
    "    rows = []\n",
    "    for doc in documents:\n",
    "        row = {}\n",
    "        # Store document ID\n",
    "        row[\"ID\"] = doc.id_\n",
    "        # Add all metadata items as separate columns\n",
    "        for key, value in doc.metadata.items():\n",
    "            row[key] = value\n",
    "        # Get text from the text_resource attribute, if available\n",
    "        row[\"text\"] = getattr(doc.text_resource, \"text\", None)\n",
    "        rows.append(row)\n",
    "    return pd.DataFrame(rows)"
   ]
  },
  {
   "cell_type": "code",
   "execution_count": null,
   "id": "30567c13",
   "metadata": {},
   "outputs": [],
   "source": [
    "documents_df = documents_to_dataframe(markdown_documents)"
   ]
  },
  {
   "cell_type": "code",
   "execution_count": null,
   "id": "3ea1f9d8",
   "metadata": {},
   "outputs": [],
   "source": [
    "documents_df"
   ]
  },
  {
   "cell_type": "markdown",
   "id": "48e6742d",
   "metadata": {},
   "source": [
    "## Write DataFrame to Snowflake table"
   ]
  },
  {
   "cell_type": "code",
   "execution_count": 2,
   "id": "8498ad32",
   "metadata": {},
   "outputs": [
    {
     "name": "stderr",
     "output_type": "stream",
     "text": [
      "/opt/anaconda3/envs/oss_rag_stack/lib/python3.11/site-packages/snowflake/connector/options.py:104: UserWarning: You have an incompatible version of 'pyarrow' installed (20.0.0), please install a version that adheres to: 'pyarrow<19.0.0; extra == \"pandas\"'\n",
      "  warn_incompatible_dep(\n",
      "/opt/anaconda3/envs/oss_rag_stack/lib/python3.11/site-packages/snowflake/snowpark/session.py:38: UserWarning: pkg_resources is deprecated as an API. See https://setuptools.pypa.io/en/latest/pkg_resources.html. The pkg_resources package is slated for removal as early as 2025-11-30. Refrain from using this package or pin to Setuptools<81.\n",
      "  import pkg_resources\n"
     ]
    }
   ],
   "source": [
    "from snowflake.snowpark import Session\n",
    "\n",
    "# Create Snowpark session\n",
    "connection_parameters = {\n",
    "    \"account\": os.getenv(\"SNOWFLAKE_ACCOUNT\"),\n",
    "    \"user\": os.getenv(\"SNOWFLAKE_USER\"),\n",
    "    \"password\": os.getenv(\"SNOWFLAKE_PASSWORD\"),            \n",
    "    \"role\": os.getenv(\"SNOWFLAKE_ROLE\"),\n",
    "    \"warehouse\": os.getenv(\"SNOWFLAKE_WARHEOUSE\"),\n",
    "    \"database\": os.getenv(\"SNOWFLAKE_DATABASE\"),\n",
    "    \"schema\": os.getenv(\"SNOWFLAKE_SCHEMA\"),\n",
    "}\n",
    "\n",
    "session = Session.builder.configs(connection_parameters).create()"
   ]
  },
  {
   "cell_type": "code",
   "execution_count": null,
   "id": "f91be45a",
   "metadata": {},
   "outputs": [],
   "source": [
    "# convert to Snowpark DataFrame\n",
    "snowpark_df = session.create_dataframe(documents_df)"
   ]
  },
  {
   "cell_type": "code",
   "execution_count": null,
   "id": "6c148161",
   "metadata": {},
   "outputs": [],
   "source": [
    "# Write Snowpark DataFrame to a Snowflake table\n",
    "# Use 'overwrite' to replace table or 'append' to add to existing table\n",
    "snowpark_df.write.mode(\"overwrite\").save_as_table(\"snowflake_10k\")"
   ]
  },
  {
   "cell_type": "code",
   "execution_count": null,
   "id": "7e19ab4b",
   "metadata": {},
   "outputs": [],
   "source": [
    "create_search_service_sql = \"\"\"\n",
    "CREATE OR REPLACE CORTEX SEARCH SERVICE SNOWFLAKE_10K_SEARCH_SERVICE\n",
    "  ON TEXT\n",
    "  ATTRIBUTES ID, PAGE_NUMBER, FILE_NAME\n",
    "  WAREHOUSE = S\n",
    "  TARGET_LAG = '1 hour'\n",
    "    AS (\n",
    "      SELECT\n",
    "        ID,\n",
    "        \"page_number\" AS PAGE_NUMBER,\n",
    "        \"file_name\" AS FILE_NAME,\n",
    "        \"text\" AS TEXT\n",
    "      FROM SEC_10KS.PUBLIC.SNOWFLAKE_10K\n",
    "      );\n",
    "\"\"\"\n",
    "session.sql(create_search_service_sql).collect()"
   ]
  },
  {
   "cell_type": "code",
   "execution_count": 3,
   "id": "9562d37b",
   "metadata": {},
   "outputs": [],
   "source": [
    "import os\n",
    "from snowflake.core import Root\n",
    "from typing import List\n",
    "from snowflake.snowpark.session import Session\n",
    "\n",
    "class CortexSearchRetriever:\n",
    "\n",
    "    def __init__(self, snowpark_session: Session, limit_to_retrieve: int = 4):\n",
    "        self._snowpark_session = snowpark_session\n",
    "        self._limit_to_retrieve = limit_to_retrieve\n",
    "\n",
    "    def retrieve(self, query: str) -> List[str]:\n",
    "        root = Root(session)\n",
    "\n",
    "        search_service = (root\n",
    "          .databases[\"SEC_10KS\"]\n",
    "          .schemas[\"PUBLIC\"]\n",
    "          .cortex_search_services[\"SNOWFLAKE_10K_SEARCH_SERVICE\"]\n",
    "        )\n",
    "        resp = search_service.search(\n",
    "          query=query,\n",
    "          columns=[\"text\"],\n",
    "          limit=self._limit_to_retrieve\n",
    "        )\n",
    "\n",
    "        if resp.results:\n",
    "            return [curr[\"text\"] for curr in resp.results]\n",
    "        else:\n",
    "            return []\n",
    "        \n",
    "retriever = CortexSearchRetriever(snowpark_session=session, limit_to_retrieve=5)"
   ]
  },
  {
   "cell_type": "code",
   "execution_count": 5,
   "id": "ca74bda0",
   "metadata": {},
   "outputs": [
    {
     "data": {
      "text/plain": [
       "['# Table of Contents\\n\\n# Selected Financial Information\\n\\n| Fiscal Year Ended January 31,                      | 2025          | 2024        | 2023        |\\n| -------------------------------------------------- | ------------- | ----------- | ----------- |\\n| Revenue                                            | $3,626,396    | $2,806,489  | $2,065,659  |\\n| Cost of revenue and operating expenses:            |               |             |             |\\n| Cost of product revenue(1)(2)                      | $992,069      | $701,200    | $547,547    |\\n| Cost of professional services and other revenue(2) | $222,604      | $197,358    | $169,993    |\\n| Sales and marketing(2)                             | $1,672,092    | $1,391,747  | $1,106,507  |\\n| Research and development(2)                        | $1,783,379    | $1,287,949  | $788,058    |\\n| General and administrative(2)                      | $412,262      | $323,008    | $295,821    |\\n| Interest income                                    | ($209,009)    | ($200,663)  | ($73,839)   |\\n| Interest expense                                   | $2,759        | —           | —           |\\n| Other (income) expense, net                        | $35,339       | ($44,887)   | $47,565     |\\n| Provision for (benefit from) income taxes          | $4,113        | ($11,233)   | ($18,467)   |\\n| Net loss                                           | $ (1,289,212) | $ (837,990) | $ (797,526) |\\n\\n(1) For the fiscal years ended January 31, 2025, 2024, and 2023, respectively, approximately 65%, 67%, and 71% of cost of product revenue represented third-party cloud infrastructure expenses incurred in connection with the customers’ use of the Snowflake platform and the deployment and maintenance of the platform on public clouds, including different regional deployments.\\n\\n(2) For the fiscal years ended January 31, 2025, 2024, and 2023, respectively, approximately 37%, 38%, and 38% of the Company’s total cost of revenue and operating expenses were comprised of personnel-related expenses, excluding stock-based compensation and associated payroll taxes. These expenses consist primarily of salaries, benefits, bonuses, sales commissions and draws paid to the Company’s sales force and certain referral fees paid to third parties, including amortization of deferred commissions, and associated payroll taxes. They also include salaries, benefits and bonuses allocated as part of overhead costs. See Note 12, “Equity,” for details regarding the Company’s stock-based compensation.\\n\\nThe measure of segment assets is the total assets on the Company’s consolidated balance sheets. See the Company’s consolidated financial statements for other financial information regarding its operating segment.\\n\\nFor information regarding the Company’s revenue by geographic area, see Note 3, “Revenue, Accounts Receivable, Deferred Revenue, and Remaining Performance Obligations.”\\n\\n# Long-Lived Assets by Geographic Area\\n\\n| Geographic Area | January 31, 2025 | January 31, 2024 |\\n| --------------- | ---------------- | ---------------- |\\n| United States   | $536,885         | $379,664         |\\n| Other(1)        | $118,947         | $119,928         |\\n| Total           | $655,832         | $499,592         |\\n\\n(1) No individual country outside of the United States accounted for more than 10% of the Company’s long-lived assets as of January 31, 2025 and 2024.\\n\\n# Use of Estimates\\n\\nThe preparation of consolidated financial statements in conformity with GAAP requires management to make estimates and assumptions that affect the amounts reported in the consolidated financial statements and accompanying notes. Such estimates include, but are not limited to, stand-alone selling prices (SSP) for each distinct performance obligation, internal-use software development costs, the expected period of benefit for deferred commissions, the fair value of intangible assets acquired in business combinations, the useful lives of long-lived assets, the carrying value of operating lease right-of-use assets, stock-based compensation, accounting for income taxes, and the fair value of investments in marketable and non-marketable securities.',\n",
       " '# Table of Contents\\n\\nOur platform is used globally by organizations of all sizes across a broad range of industries. As of January 31, 2025, we had 11,159 total customers, increasing from 9,384 customers as of January 31, 2024. Our customer count is subject to adjustments for acquisitions, consolidations, spin-offs, and other market activity, and we present our total customer count for historical periods reflecting these adjustments. Our platform has been adopted by many of the world’s largest organizations that view Snowflake as a key strategic partner in their cloud and data transformation initiatives. As of January 31, 2025, our customers included 745 of the Forbes Global 2000, based on the 2024 Forbes Global 2000 list, and those customers contributed approximately 42% of our revenue for the fiscal year ended January 31, 2025. Our Forbes Global 2000 customer count is subject to adjustments for annual updates to the Global 2000 list by Forbes, as well as acquisitions, consolidations, spin-offs, and other market activity with respect to such customers, and we present our Forbes Global 2000 customer count for historical periods reflecting these adjustments.\\n\\n# Fiscal Year\\n\\nOur fiscal year ends on January 31. For example, references to fiscal 2025 refer to the fiscal year ended January 31, 2025.\\n\\n# Impact of Macroeconomic Conditions\\n\\nOur business and financial condition have been, and may continue to be, impacted by adverse macroeconomic conditions, including inflation, high interest rates, and fluctuations or volatility in capital markets or foreign currency exchange rates. These conditions have caused, and may continue to cause, customers to rationalize budgets, prioritize cash flow management, including through shortened contract duration, and optimize consumption, including by reducing storage through shorter data retention policies. We are continuing to monitor the actual and potential effects of general macroeconomic conditions across our business. For additional details, see the section titled “Risk Factors.”\\n\\n# Convertible Senior Notes\\n\\nIn September 2024, we completed a private offering of $1.15 billion aggregate principal amount of 0% convertible senior notes due 2027 (2027 Notes) and $1.15 billion aggregate principal amount of 0% convertible senior notes due 2029 (2029 Notes, and together with the 2027 Notes, the Notes). The total proceeds from the issuance of the Notes were approximately $2.27 billion, net of $31.2 million of debt issuance costs.\\n\\nWe used a portion of the net proceeds from the offering to (i) pay the $195.5 million cost of the privately negotiated capped call transactions relating to each series of the Notes (Capped Calls) and (ii) repurchase $399.6 million of our common stock from purchasers of the Notes in the offering in privately negotiated transactions entered into in connection with the Notes offering at a purchase price of $112.50 per share.\\n\\nSee Note 10, “Convertible Senior Notes,” to our consolidated financial statements included elsewhere in this Annual Report on Form 10-K for further details.\\n\\n# Stock Repurchase Program\\n\\nIn February 2023, our board of directors authorized a stock repurchase program of up to $2.0 billion of our outstanding common stock. In August 2024, our board of directors authorized the repurchase of an additional $2.5 billion of our outstanding common stock and extended the expiration date of the stock repurchase program from March 2025 to March 2027. During the fiscal year ended January 31, 2025, we repurchased 14.8 million shares of our outstanding common stock for an aggregate purchase price of $1.9 billion, excluding transaction costs associated with the repurchases, at a weighted-average price of $130.87 per share. All repurchases were made in open market transactions, except for the 3.6 million shares of our outstanding common stock that were repurchased for $399.6 million from purchasers of the Notes in the offering in privately negotiated transactions entered into in connection with the Notes offering at a purchase price of $112.50 per share. As of January 31, 2025, $2.0 billion remained available for future repurchases under the stock repurchase program (exclusive of transaction costs associated with repurchases). See Note 10, “Convertible Senior Notes,” and Note 12, “Equity,” to our consolidated financial statements included elsewhere in this Annual Report on Form 10-K for further details.\\n\\nThe timing and amount of any repurchases will be determined by management based on an evaluation of market conditions and other factors. The program does not obligate us to acquire any particular amount of common stock, and the repurchase program may be suspended or discontinued at any time at our discretion.',\n",
       " '# Table of Contents\\n\\n# We have a history of operating losses and may not achieve or sustain profitability in the future.\\n\\nWe have experienced net losses in each period since inception. We generated net losses of $1.3 billion, $838.0 million and $797.5 million for the fiscal years ended January 31, 2025, 2024 and 2023, respectively. As of January 31, 2025 and 2024, we had an accumulated deficit of $7.3 billion and $4.1 billion, respectively. We expect our costs and expenses to increase in future periods. In particular, we intend to continue to invest significant resources to further develop our platform, expand our research and development teams, retain our employees, and acquire other businesses, including in the areas of data science, artificial intelligence, and machine learning. In addition, our platform currently operates on public cloud infrastructure provided by Amazon Web Services (AWS), Microsoft Azure (Azure), and Google Cloud Platform (GCP), and our costs and gross margins are significantly influenced by the prices we are able to negotiate with these public cloud providers, which in certain cases are also our competitors. If we fail to meet any minimum commitments under our third-party cloud infrastructure agreements, we may be required to pay the difference, and our results of operations could be negatively impacted. We will also incur increased general and administrative expenses associated with our growth, including costs related to internal systems, operating as a public company, and targeting regulated industries or markets. Our efforts to grow our business have been and may continue to be costlier than we expect, or our revenue growth rate may be slower than we expect, and we may not be able to increase our revenue enough to offset the increase in operating expenses resulting from these investments. If we are unable to achieve and sustain profitability, or if we are unable to achieve the revenue growth that we expect from these investments, the value of our business and common stock may significantly decrease.\\n\\n# The markets in which we operate are highly competitive, and if we do not compete effectively, our business, financial condition, and results of operations could be harmed.\\n\\nThe markets in which we operate are rapidly evolving and highly competitive. In recent years, we have adopted open data formats like Apache Iceberg tables to allow customers to use our platform to process data stored in external customer-controlled environments outside of Snowflake, and we have introduced a significant number of new features and expanded into new product categories like artificial intelligence. These changes are driving increased competition, both because there is less customer “lock in” when our products are used in external environments, and also because we are competing across more product categories, each of which is subject to distinct customer requirements and preferences. Our success depends on our ability to continue to innovate in response to changing market dynamics.\\n\\nOur current competitors include:\\n\\n- large, well-established, public cloud providers that generally compete in all of our markets, including AWS, Azure, and GCP;\\n- less-established public and private cloud companies with products that compete in some or all of our markets;\\n- other established vendors of legacy database solutions or big data offerings; and\\n- new or emerging entrants seeking to develop competing technologies.\\n\\nWe compete based on various factors, including price, performance, product features, breadth of use cases, multi-cloud availability, brand recognition and reputation, customer support, and differentiated capabilities, including ease of implementation and data migration, ease of administration and use, scalability and reliability, data governance, security and compatibility with existing standards, programming languages, third-party products, and the ability to operate in hybrid environments. Many of our competitors have substantially greater brand recognition, customer relationships, and financial, technical, and other resources than we do, and may be able to respond more effectively than us to new or changing opportunities, technologies, standards, customer requirements, and buying practices. In addition, we may not be able to respond to market opportunities as quickly as smaller companies or offer as many discounts or free services as our competitors. Our support of open data formats may also reduce switching costs between us and our competitors.',\n",
       " '# Table of Contents\\n\\n# Comparison of the Fiscal Years Ended January 31, 2025 and 2024\\n\\n# Revenue\\n\\n| Fiscal Year Ended January 31,   | 2025       | 2024       | % Change |\\n| ------------------------------- | ---------- | ---------- | -------- |\\n| Revenue:                        | $3,462,422 | $2,666,849 | 30%      |\\n| Professional services and other | $163,974   | $139,640   | 17%      |\\n| Total                           | $3,626,396 | $2,806,489 | 29%      |\\n\\n# Percentage of revenue:\\n\\n| Product                         | 95%  | 95%  |\\n| ------------------------------- | ---- | ---- |\\n| Professional services and other | 5%   | 5%   |\\n| Total                           | 100% | 100% |\\n\\nProduct revenue increased $795.6 million for the fiscal year ended January 31, 2025, compared to the prior fiscal year, primarily due to increased consumption of our platform by existing customers, as evidenced by our net revenue retention rate of 126% as of January 31, 2025.\\n\\nWe had 580 customers with product revenue of greater than $1 million for the trailing 12 months ended January 31, 2025, an increase from 455 customers as of January 31, 2024. Such customers represented approximately 67% and 65% of our product revenue for the trailing 12 months ended January 31, 2025 and 2024, respectively. Within these customers, we had 110 and 39 customers with product revenue of greater than $5 million and $10 million, respectively, for the trailing 12 months ended January 31, 2025. The substantial majority of our revenue was derived from existing customers under capacity arrangements, which represented approximately 97% of our revenue for each of the fiscal years ended January 31, 2025 and 2024. The remainder was derived from on-demand arrangements and new customers under capacity arrangements. The preceding historical metrics reflect any adjustments for acquisitions, consolidations, spin-offs, and other market activity. For purposes of determining revenue derived from (i) customers with trailing 12-month product revenue greater than $1 million, (ii) new customers, and (iii) existing customers, we treat each customer account, including accounts for end-customers under a reseller arrangement, that has at least one corresponding capacity contract as a unique customer, and a single organization with multiple divisions, segments, or subsidiaries may be counted as multiple customers.\\n\\nProfessional services and other revenue increased $24.3 million for the fiscal year ended January 31, 2025, compared to the prior fiscal year, as we continued to expand our professional services organization to help our customers further realize the benefits of our platform.',\n",
       " '# SNOWFLAKE INC.\\n\\n# CONSOLIDATED STATEMENTS OF OPERATIONS\\n\\n# (in thousands, except per share data)\\n\\n| Fiscal Year Ended January 31,                                                                                                             | 2025          | 2024         | 2023        |\\n| ----------------------------------------------------------------------------------------------------------------------------------------- | ------------- | ------------ | ----------- |\\n| Revenue                                                                                                                                   | $3,626,396    | $2,806,489   | $2,065,659  |\\n| Cost of revenue                                                                                                                           | $1,214,673    | $898,558     | $717,540    |\\n| Gross profit                                                                                                                              | $2,411,723    | $1,907,931   | $1,348,119  |\\n| Operating expenses:                                                                                                                       |               |              |             |\\n| Sales and marketing                                                                                                                       | $1,672,092    | $1,391,747   | $1,106,507  |\\n| Research and development                                                                                                                  | $1,783,379    | $1,287,949   | $788,058    |\\n| General and administrative                                                                                                                | $412,262      | $323,008     | $295,821    |\\n| Total operating expenses                                                                                                                  | $3,867,733    | $3,002,704   | $2,190,386  |\\n| Operating loss                                                                                                                            | ($1,456,010)  | ($1,094,773) | ($842,267)  |\\n| Interest income                                                                                                                           | $209,009      | $200,663     | $73,839     |\\n| Interest expense                                                                                                                          | ($2,759)      | —            | —           |\\n| Other income (expense), net                                                                                                               | ($35,339)     | $44,887      | ($47,565)   |\\n| Loss before income taxes                                                                                                                  | ($1,285,099)  | ($849,223)   | ($815,993)  |\\n| Provision for (benefit from) income taxes                                                                                                 | $4,113        | ($11,233)    | ($18,467)   |\\n| Net loss                                                                                                                                  | ($1,289,212)  | ($837,990)   | ($797,526)  |\\n| Less: net loss attributable to noncontrolling interest                                                                                    | ($3,572)      | ($1,893)     | ($821)      |\\n| Net loss attributable to Snowflake Inc.                                                                                                   | $ (1,285,640) | $ (836,097)  | $ (796,705) |\\n| Net loss per share attributable to Snowflake Inc. Class A common stockholders—basic and diluted                                           | ($3.86)       | ($2.55)      | ($2.50)     |\\n| Weighted-average shares used in computing net loss per share attributable to Snowflake Inc. Class A common stockholders—basic and diluted | 332,707       | 328,001      | 318,730     |\\n\\nSee accompanying notes to consolidated financial statements.']"
      ]
     },
     "execution_count": 5,
     "metadata": {},
     "output_type": "execute_result"
    }
   ],
   "source": [
    "retrieved_context = retriever.retrieve(query=\"What was the product revenue for Snowflake in 2025 Q1\")\n",
    "\n",
    "retrieved_context"
   ]
  },
  {
   "cell_type": "markdown",
   "id": "a65ee85b",
   "metadata": {},
   "source": [
    "## Create a RAG"
   ]
  },
  {
   "cell_type": "code",
   "execution_count": 15,
   "id": "c7e94fb3",
   "metadata": {},
   "outputs": [],
   "source": [
    "from snowflake.cortex import complete\n",
    "\n",
    "class RAG:\n",
    "\n",
    "    def __init__(self, session):\n",
    "        self.session = session\n",
    "        self.retriever = CortexSearchRetriever(snowpark_session=self.session, limit_to_retrieve=10)\n",
    "\n",
    "    def retrieve_context(self, query: str) -> list:\n",
    "        \"\"\"\n",
    "        Retrieve relevant text from vector store.\n",
    "        \"\"\"\n",
    "        return self.retriever.retrieve(query)\n",
    "\n",
    "    def generate_completion(self, query: str, context_str: list) -> str:\n",
    "        \"\"\"\n",
    "        Generate answer from context.\n",
    "        \"\"\"\n",
    "        prompt = f\"\"\"\n",
    "          You are an expert assistant extracting information from context provided.\n",
    "          Answer the question in long-form, fully and completely, based on the context. Do not hallucinate.\n",
    "          If you don´t have the information just say so. If you do have the information you need, just tell me the answer.\n",
    "          Context: {context_str}\n",
    "          Question:\n",
    "          {query}\n",
    "          Answer:\n",
    "        \"\"\"\n",
    "        response = \"\"\n",
    "        response = complete(\"claude-4-sonnet\", prompt, session = session)\n",
    "        return response\n",
    "\n",
    "    def query(self, query: str) -> str:\n",
    "        context_str = self.retrieve_context(query)\n",
    "        return self.generate_completion(query, context_str)\n",
    "\n",
    "\n",
    "rag = RAG(session)"
   ]
  },
  {
   "cell_type": "code",
   "execution_count": 26,
   "id": "02ffbb46",
   "metadata": {},
   "outputs": [],
   "source": [
    "response = rag.query(\"What was the product revenue and gross margin for Snowflake in FY 2024?\")"
   ]
  },
  {
   "cell_type": "code",
   "execution_count": 27,
   "id": "a19897a2",
   "metadata": {},
   "outputs": [
    {
     "data": {
      "text/markdown": [
       "Based on the financial information provided in the context, for Snowflake's fiscal year 2024 (ended January 31, 2024):\n",
       "\n",
       "**Product Revenue:** $2,666,849 thousand (or approximately $2.67 billion)\n",
       "\n",
       "**Product Gross Margin:** 74%\n",
       "\n",
       "The context shows that product revenue represented 95% of total revenue in FY 2024, with total revenue being $2,806,489 thousand. The product gross margin of 74% indicates that Snowflake had strong profitability on its core product offerings, though this declined to 71% in FY 2025 primarily due to newly launched product capabilities and features that had not yet reached economies of scale."
      ],
      "text/plain": [
       "<IPython.core.display.Markdown object>"
      ]
     },
     "metadata": {},
     "output_type": "display_data"
    }
   ],
   "source": [
    "from IPython.display import Markdown\n",
    "\n",
    "display(Markdown(response))"
   ]
  }
 ],
 "metadata": {
  "kernelspec": {
   "display_name": "oss_rag_stack",
   "language": "python",
   "name": "python3"
  },
  "language_info": {
   "codemirror_mode": {
    "name": "ipython",
    "version": 3
   },
   "file_extension": ".py",
   "mimetype": "text/x-python",
   "name": "python",
   "nbconvert_exporter": "python",
   "pygments_lexer": "ipython3",
   "version": "3.11.11"
  }
 },
 "nbformat": 4,
 "nbformat_minor": 5
}
